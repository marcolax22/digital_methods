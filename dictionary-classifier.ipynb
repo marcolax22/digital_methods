{
 "cells": [
  {
   "cell_type": "markdown",
   "metadata": {},
   "source": [
    "# Digital Methods - Dictionary Classifier\n",
    "_____\n",
    "\n",
    "## Table of Content\n",
    "\n",
    "1. [Libraries](#libraries)\n",
    "2. [Load Data](#load-data)\n",
    "3. [Data Preprocessing](#preprocessing-of-the-data)\n",
    "4. [Set Up of Dictionary](#building-dictionary)\n",
    "5. [Classifier](#classifier)\n",
    "6. [Networks](#network-analysis)\n",
    "7. [Backtracking Uncategorized Comments](#tracking-uncategorized-comments)\n",
    "_____"
   ]
  },
  {
   "cell_type": "markdown",
   "metadata": {},
   "source": [
    "## Libraries\n",
    "\n",
    "All libraries which are needed to execute the code are listed here. Install the packages by using the `requirements.txt` file. \n",
    "\n",
    "The documentation can be found in the [README.md](README.md) file."
   ]
  },
  {
   "cell_type": "code",
   "execution_count": 49,
   "metadata": {},
   "outputs": [],
   "source": [
    "# import packages\n",
    "import pandas as pd \n",
    "from tqdm import tqdm\n",
    "import nltk\n",
    "from nltk.stem import WordNetLemmatizer\n",
    "from nltk import word_tokenize, pos_tag\n",
    "from nltk.corpus import wordnet\n",
    "from nltk.stem.snowball import SnowballStemmer\n",
    "from nltk.util import ngrams\n",
    "from preprocessing_functions import *\n",
    "from collections import defaultdict\n",
    "import itertools\n",
    "import networkx as nx\n",
    "import matplotlib.pyplot as plt\n",
    "from googleapiclient.discovery import build\n",
    "\n",
    "#import script --- CREATING SCRIPT TO IMPORT YouTube API KEY ---\n",
    "from api_key import api_key_1"
   ]
  },
  {
   "cell_type": "markdown",
   "metadata": {},
   "source": [
    "## Load Data\n",
    "\n",
    "Load collected YouTube comments from the Data Collection."
   ]
  },
  {
   "cell_type": "code",
   "execution_count": 50,
   "metadata": {},
   "outputs": [],
   "source": [
    "df = pd.read_csv('data/comments_final.csv')"
   ]
  },
  {
   "cell_type": "code",
   "execution_count": 51,
   "metadata": {},
   "outputs": [],
   "source": [
    "# process data with using functions from functions.py\n",
    "processed_df = (\n",
    "    df.pipe(remove_users, 'text')\n",
    "      .pipe(lowercase_text, 'text')\n",
    "      .pipe(remove_whitespace, 'text')\n",
    "      .pipe(remove_punctuation, 'text')\n",
    ")"
   ]
  },
  {
   "cell_type": "markdown",
   "metadata": {},
   "source": [
    "# Preprocessing of the Data\n",
    "\n",
    "- Stemming and Lemmatizing\n",
    "- Tokenization of the comments\n",
    "- Building N-grams"
   ]
  },
  {
   "cell_type": "code",
   "execution_count": 52,
   "metadata": {},
   "outputs": [],
   "source": [
    "# text column to string\n",
    "processed_df['text'] = processed_df['text'].astype('str')\n",
    "processed_df['text'] = processed_df['text'].str.replace('\\'', '')\n",
    "\n",
    "# use stemming to reduce words to their root words\n",
    "processed_df = stem_words(processed_df, 'text')\n",
    "\n",
    "# use lemmatization to reduce words to their root form\n",
    "processed_df = lemmatize_words(processed_df, 'text')\n",
    "\n",
    "# convert date format\n",
    "processed_df = convert_date_format(processed_df, 'published_at')"
   ]
  },
  {
   "cell_type": "code",
   "execution_count": 53,
   "metadata": {},
   "outputs": [],
   "source": [
    "#dropping the na from lemmatized & stemmed text to avoid issues with creating n_grams\n",
    "processed_df.lemmatized_text = processed_df.lemmatized_text.apply(lambda x: '' if str(x) == 'nan' else x)\n",
    "processed_df.stemmed_text = processed_df.stemmed_text.apply(lambda x: '' if str(x) == 'nan' else x)"
   ]
  },
  {
   "cell_type": "code",
   "execution_count": 54,
   "metadata": {},
   "outputs": [],
   "source": [
    "# Tokenizing the lemmatized and stemmed text before creating n-grams\n",
    "def tokenize_words(text):\n",
    "    words = word_tokenize(text)\n",
    "    #words_with_quotes = [f\"'{word}'\" for word in words]\n",
    "    return words\n",
    "\n",
    "processed_df[\"stemmed_tokens\"] = processed_df[\"stemmed_text\"].apply(lambda x: tokenize_words(x))\n",
    "processed_df[\"lemmatized_tokens\"] = processed_df[\"lemmatized_text\"].apply(lambda x: tokenize_words(x))"
   ]
  },
  {
   "cell_type": "code",
   "execution_count": 55,
   "metadata": {},
   "outputs": [
    {
     "name": "stderr",
     "output_type": "stream",
     "text": [
      "100%|██████████| 96595/96595 [00:00<00:00, 146459.74it/s]\n",
      "100%|██████████| 96595/96595 [00:00<00:00, 126143.18it/s]\n",
      "100%|██████████| 96595/96595 [00:00<00:00, 124452.89it/s]\n",
      "100%|██████████| 96595/96595 [00:02<00:00, 40288.12it/s] \n",
      "100%|██████████| 96595/96595 [00:00<00:00, 128918.98it/s]\n",
      "100%|██████████| 96595/96595 [00:00<00:00, 128509.41it/s]\n"
     ]
    }
   ],
   "source": [
    "# Creating n-grams \n",
    "tqdm.pandas() #Creates a progress bar and below use \"progress_apply\" instead of \"apply\" to create a progress bar (This is more of a \"nice to have\" than a \"need to have\")\n",
    "\n",
    "#Defining a function that will create bigrams \n",
    "def bigrams(doc): # a doc is a list of tokens/unigrams in same order as in tweets \n",
    "    \n",
    "    bigrams = [] #Empty list to save the bigrams\n",
    "    \n",
    "    for bigram in list(nltk.bigrams(doc)):  #Creating bigrams as tuples with nltk.bigrams and iterating over these them\n",
    "        bigrams.append(\"_\".join(bigram))    #Joining each bigram-tuple pair with an underscore and saving to list\n",
    "    \n",
    "    return bigrams\n",
    "\n",
    "#Defining a function that will create bigrams \n",
    "def trigrams(doc): # a doc is a list of unigrams in same order as in tweets \n",
    "    \n",
    "    trigrams = [] #Empty list to save the bigrams\n",
    "    \n",
    "    for trigram in list(nltk.trigrams(doc)):  #Creating bigrams as tuples with nltk.bigrams and iterating over these them\n",
    "        trigrams.append(\"_\".join(trigram))    #Joining each bigram-tuple pair with an underscore and saving to list\n",
    "    \n",
    "    return trigrams\n",
    "\n",
    "#Defining a function that will create bigrams \n",
    "def fourgrams(doc): # a doc is a list of unigrams in same order as in tweets \n",
    "    \n",
    "    fourgrams = [] #Empty list to save the bigrams\n",
    "    \n",
    "    for fourgram in list(ngrams(doc, 4)):  #Creating bigrams as tuples with nltk.bigrams and iterating over these them\n",
    "        fourgrams.append(\"_\".join(fourgram))    #Joining each bigram-tuple pair with an underscore and saving to list\n",
    "    \n",
    "    return fourgrams\n",
    "\n",
    "#Creating a column with bigrams by applying function to column of unigrams\n",
    "processed_df['bigrams_lemma'] = processed_df[\"lemmatized_tokens\"].progress_apply(lambda x: bigrams(x))\n",
    "processed_df['trigrams_lemma'] = processed_df['lemmatized_tokens'].progress_apply(lambda x : trigrams(x))\n",
    "processed_df['fourgrams_lemma'] = processed_df['lemmatized_tokens'].progress_apply(lambda x : fourgrams(x))\n",
    "\n",
    "processed_df['bigrams_stem'] = processed_df[\"stemmed_tokens\"].progress_apply(lambda x: bigrams(x))\n",
    "processed_df['trigrams_stem'] = processed_df['stemmed_tokens'].progress_apply(lambda x : trigrams(x))\n",
    "processed_df['fourgrams_stem'] = processed_df['stemmed_tokens'].progress_apply(lambda x : fourgrams(x))\n"
   ]
  },
  {
   "cell_type": "code",
   "execution_count": 56,
   "metadata": {},
   "outputs": [],
   "source": [
    "# creating one column with all n-grams (unigrams, bigrams, trigrams, fourgrams)\n",
    "processed_df[\"all_n_grams_lemmatized\"] = processed_df[\"lemmatized_tokens\"] + processed_df[\"bigrams_lemma\"] + processed_df[\"trigrams_lemma\"] + processed_df[\"fourgrams_lemma\"]\n",
    "processed_df[\"all_n_grams_stemmed\"] = processed_df[\"stemmed_tokens\"] + processed_df[\"bigrams_stem\"] + processed_df[\"trigrams_stem\"] + processed_df[\"fourgrams_stem\"]"
   ]
  },
  {
   "cell_type": "code",
   "execution_count": 57,
   "metadata": {},
   "outputs": [
    {
     "name": "stdout",
     "output_type": "stream",
     "text": [
      "Number of rows containing 'climate': 14821\n"
     ]
    }
   ],
   "source": [
    "def contains_climate(lst):\n",
    "    return 'climate' in lst\n",
    "\n",
    "# Applying the function to create a boolean mask\n",
    "climate_mask = processed_df['all_n_grams_lemmatized'].apply(contains_climate)\n",
    "\n",
    "# Summing the rows where the mask is True\n",
    "sum_rows_with_climate = climate_mask.sum()\n",
    "\n",
    "print(f\"Number of rows containing 'climate': {sum_rows_with_climate}\")"
   ]
  },
  {
   "cell_type": "markdown",
   "metadata": {},
   "source": [
    "## Building Dictionary\n",
    "\n",
    "Building the Dictionary for the Classifier. This process is based on the qualitative research and Word2Vec Model + Topic Modelling."
   ]
  },
  {
   "cell_type": "code",
   "execution_count": 71,
   "metadata": {},
   "outputs": [],
   "source": [
    "# Creating Dictionary \n",
    "\n",
    "sc1_kw = ['no_climate_emergency', 'melting', 'arctic_ice', 'arctic_sea ice', 'sea_level_rise', 'extreme_weather', 'global_cooling', 'greenland_ice',\n",
    "          'ice_cap', 'arctic_ice', 'extreme_heat', 'extreme_cold' ]\n",
    "# unsure &  included: 'melting'\n",
    "# unsure & not included: 'glacier', 'wildfires', 'climate emergency', 'unproven', 'global warming'\n",
    "\n",
    "sc2_kw = ['natural_cycle', 'CO2_is_not_the_cause', 'greenhouse_gas', 'no_CO2_Greenhouse_Effect', 'no_effect', 'miniscule_effect', 'Man_has_no_control']\n",
    "# unsure & not included: 'natural process'\n",
    "\n",
    "sc3_kw = ['plant_food', 'plant_growth', 'thrive', 'carbon_element_is_essential', 'average_temperature_increase', '1_degree', \n",
    "          'more_fossil_fuels', 'no_co2', 'plant_food', 'not_pollution', '0.1C', 'ppm', 'not_a_pollutant']\n",
    "# unsure & not included: 'beneficial'\n",
    "\n",
    "sc4_kw = ['green_energy', 'renewable_energy', 'energy_production', 'windmills', 'solar_panel']\n",
    "# unsure &  included: 'renewable energy'\n",
    "\n",
    "sc5_kw = ['alarmism', 'catastrophist', 'doomsday_cult', 'climate_hysteric', 'unscientific', 'corrupt_politician', 'LIE_ABOUT_EVERYTHING',\n",
    "          'idiocy', 'lunatics', 'CLIMATE_Worship', 'Climatists', 'alarmists', 'compliant_media', 'climate_hysteria', 'climate_narrative', 'climate_cult',\n",
    "             'scientism', 'climate_science_myths', 'lying_in_science', 'climate_apocalypse', 'propaganda', 'doomsayers', 'clown_show', 'fake_climate',\n",
    "               'climate_change_agenda', 'money_made', 'fake_news', 'climate_terrorists']\n",
    "# unsure & not included: 'scientist', 'global warming scam' (could also be sc7), 'greta', 'john kerry'\n",
    "\n",
    "sc7_kw = ['globalist', 'globalist_elites', 'elitist', 'global_government', 'one_world', 'one_world_government', 'globalism', \n",
    "          'one_world_utopia', 'new_world_order', 'enriching_themselves', 'saving_the_planet', 'control_over_your_lives', \n",
    "          'tyranny', 'global_elite', 'wef', 'population_control']\n",
    "# unsure & included: 'tyranny', 'population control'\n",
    "# unsure & not included: 'totalitarian'"
   ]
  },
  {
   "cell_type": "code",
   "execution_count": 59,
   "metadata": {},
   "outputs": [
    {
     "name": "stdout",
     "output_type": "stream",
     "text": [
      "sc1_kw_lemmatized: ['no_climate_emergency', 'melt', 'arctic_ice', 'arctic_sea_ice', 'sea_level_rise', 'extreme_weather', 'global_cooling', 'greenland_ice', 'ice_cap', 'arctic_ice', 'extreme_heat', 'extreme_cold']\n",
      "sc2_kw_lemmatized: ['natural_cycle', 'co2_be_not_the_cause', 'greenhouse_gas', 'no_co2_greenhouse_effect', 'no_effect', 'miniscule_effect', 'man_have_no_control']\n",
      "sc3_kw_lemmatized: ['plant_food', 'plant_growth', 'thrive', 'carbon_element_be_essential', 'average_temperature_increase', '1_degree', 'more_fossil_fuel', 'no_co2', 'plant_food', 'not_pollution', '0.1c', 'ppm', 'not_a_pollutant']\n",
      "sc4_kw_lemmatized: ['green_energy', 'renewable_energy', 'energy_production', 'windmill', 'solar_panel']\n",
      "sc5_kw_lemmatized: ['alarmism', 'catastrophist', 'doomsday_cult', 'climate_hysteric', 'unscientific', 'corrupt_politician', 'lie_about_everything', 'idiocy', 'lunatic', 'climate_worship', 'climatists', 'alarmist', 'compliant_medium', 'climate_hysteria', 'climate_narrative', 'climate_cult', 'scientism', 'climate_science_myth', 'lie_in_science', 'climate_apocalypse', 'propaganda', 'doomsayers', 'clown_show', 'fake_climate', 'climate_change_agenda', 'money_make', 'fake_news', 'climate_terrorist']\n",
      "sc7_kw_lemmatized: ['globalist', 'globalist_elite', 'elitist', 'global_government', 'one_world', 'one_world_government', 'globalism', 'one_world_utopia', 'new_world_order', 'enrich_themselves', 'save_the_planet', 'control_over_your_life', 'tyranny', 'global_elite', 'wef', 'population_control']\n",
      "sc1_kw_stemmed: ['no_climat_emerg', 'melt', 'arctic_ice', 'arctic_sea_ice', 'sea_level_rise', 'extrem_weather', 'global_cool', 'greenland_ice', 'ice_cap', 'arctic_ice', 'extrem_heat', 'extrem_cold']\n",
      "sc2_kw_stemmed: ['natur_cycl', 'co2_is_not_the_caus', 'greenhous_gas', 'no_co2_greenhous_effect', 'no_effect', 'miniscul_effect', 'man_has_no_control']\n",
      "sc3_kw_stemmed: ['plant_food', 'plant_growth', 'thrive', 'carbon_element_is_essenti', 'averag_temperatur_increas', '1_degre', 'more_fossil_fuel', 'no_co2', 'plant_food', 'not_pollut', '0.1c', 'ppm', 'not_a_pollut']\n",
      "sc4_kw_stemmed: ['green_energi', 'renew_energi', 'energi_product', 'windmil', 'solar_panel']\n",
      "sc5_kw_stemmed: ['alarm', 'catastrophist', 'doomsday_cult', 'climat_hyster', 'unscientif', 'corrupt_politician', 'lie_about_everyth', 'idioci', 'lunat', 'climat_worship', 'climatist', 'alarmist', 'compliant_media', 'climat_hysteria', 'climat_narrat', 'climat_cult', 'scientism', 'climat_scienc_myth', 'lie_in_scienc', 'climat_apocalyps', 'propaganda', 'doomsay', 'clown_show', 'fake_climat', 'climat_chang_agenda', 'money_made', 'fake_news', 'climat_terrorist']\n",
      "sc7_kw_stemmed: ['globalist', 'globalist_elit', 'elitist', 'global_govern', 'one_world', 'one_world_govern', 'global', 'one_world_utopia', 'new_world_order', 'enrich_themselv', 'save_the_planet', 'control_over_your_live', 'tyranni', 'global_elit', 'wef', 'popul_control']\n"
     ]
    }
   ],
   "source": [
    "# lowercase and stemming/lemmatizing the keyword lists \n",
    "\n",
    "# Function to remove underscores and convert to lowercase\n",
    "def preprocess_keywords(keywords):\n",
    "    return [keyword.replace('_', ' ').lower() for keyword in keywords]\n",
    "\n",
    "# Stem words\n",
    "def stem_words(words):\n",
    "    stemmer = SnowballStemmer(language='english')\n",
    "    return [\" \".join([stemmer.stem(word) for word in word_tokenize(keyword)]) for keyword in words]\n",
    "\n",
    "# Lemmatize words\n",
    "def lemmatize_words(words):\n",
    "    lemmatizer = WordNetLemmatizer()\n",
    "    \n",
    "    # Mapping NLTK POS tags to WordNet POS tags\n",
    "    tag_map = {\n",
    "        'J': wordnet.ADJ,\n",
    "        'V': wordnet.VERB,\n",
    "        'R': wordnet.ADV,\n",
    "        'N': wordnet.NOUN\n",
    "    }\n",
    "    \n",
    "    lemmatized_keywords = []\n",
    "    for keyword in words:\n",
    "        tokens = word_tokenize(keyword)\n",
    "        pos_tags = pos_tag(tokens)\n",
    "        lemmatized_tokens = [lemmatizer.lemmatize(word, tag_map.get(tag[0], wordnet.NOUN)) for word, tag in pos_tags]\n",
    "        lemmatized_keywords.append(\" \".join(lemmatized_tokens))\n",
    "    \n",
    "    return lemmatized_keywords\n",
    "\n",
    "\n",
    "# Replacing the whitespaces with underscores again to create n-grams\n",
    "def postprocess_keywords(keywords):\n",
    "    return [keyword.replace(' ', '_') for keyword in keywords]\n",
    "\n",
    "# Apply the preprocessing, stemming, and lemmatization\n",
    "sc1_kw_lemmatized = postprocess_keywords(lemmatize_words(preprocess_keywords(sc1_kw)))\n",
    "sc2_kw_lemmatized = postprocess_keywords(lemmatize_words(preprocess_keywords(sc2_kw)))\n",
    "sc3_kw_lemmatized = postprocess_keywords(lemmatize_words(preprocess_keywords(sc3_kw)))\n",
    "sc4_kw_lemmatized = postprocess_keywords(lemmatize_words(preprocess_keywords(sc4_kw)))\n",
    "sc5_kw_lemmatized = postprocess_keywords(lemmatize_words(preprocess_keywords(sc5_kw)))\n",
    "sc7_kw_lemmatized = postprocess_keywords(lemmatize_words(preprocess_keywords(sc7_kw)))\n",
    "\n",
    "sc1_kw_stemmed = postprocess_keywords(stem_words(preprocess_keywords(sc1_kw)))\n",
    "sc2_kw_stemmed = postprocess_keywords(stem_words(preprocess_keywords(sc2_kw)))\n",
    "sc3_kw_stemmed = postprocess_keywords(stem_words(preprocess_keywords(sc3_kw)))\n",
    "sc4_kw_stemmed = postprocess_keywords(stem_words(preprocess_keywords(sc4_kw)))\n",
    "sc5_kw_stemmed = postprocess_keywords(stem_words(preprocess_keywords(sc5_kw)))\n",
    "sc7_kw_stemmed = postprocess_keywords(stem_words(preprocess_keywords(sc7_kw)))\n",
    "\n",
    "# print lemmatized dictionary\n",
    "print(\"sc1_kw_lemmatized:\", sc1_kw_lemmatized)\n",
    "print(\"sc2_kw_lemmatized:\", sc2_kw_lemmatized)\n",
    "print(\"sc3_kw_lemmatized:\", sc3_kw_lemmatized)\n",
    "print(\"sc4_kw_lemmatized:\", sc4_kw_lemmatized)\n",
    "print(\"sc5_kw_lemmatized:\", sc5_kw_lemmatized)\n",
    "print(\"sc7_kw_lemmatized:\", sc7_kw_lemmatized)\n",
    "\n",
    "# print stemmed dictionary\n",
    "print(\"sc1_kw_stemmed:\", sc1_kw_stemmed)\n",
    "print(\"sc2_kw_stemmed:\", sc2_kw_stemmed)\n",
    "print(\"sc3_kw_stemmed:\", sc3_kw_stemmed)\n",
    "print(\"sc4_kw_stemmed:\", sc4_kw_stemmed)\n",
    "print(\"sc5_kw_stemmed:\", sc5_kw_stemmed)\n",
    "print(\"sc7_kw_stemmed:\", sc7_kw_stemmed)"
   ]
  },
  {
   "cell_type": "code",
   "execution_count": 60,
   "metadata": {},
   "outputs": [
    {
     "name": "stdout",
     "output_type": "stream",
     "text": [
      "{1: ['no_climate_emergency', 'melt', 'arctic_ice', 'arctic_sea_ice', 'sea_level_rise', 'extreme_weather', 'global_cooling', 'greenland_ice', 'ice_cap', 'arctic_ice', 'extreme_heat', 'extreme_cold'], 2: ['natural_cycle', 'co2_be_not_the_cause', 'greenhouse_gas', 'no_co2_greenhouse_effect', 'no_effect', 'miniscule_effect', 'man_have_no_control'], 3: ['plant_food', 'plant_growth', 'thrive', 'carbon_element_be_essential', 'average_temperature_increase', '1_degree', 'more_fossil_fuel', 'no_co2', 'plant_food', 'not_pollution', '0.1c', 'ppm', 'not_a_pollutant'], 4: ['green_energy', 'renewable_energy', 'energy_production', 'windmill', 'solar_panel'], 5: ['alarmism', 'catastrophist', 'doomsday_cult', 'climate_hysteric', 'unscientific', 'corrupt_politician', 'lie_about_everything', 'idiocy', 'lunatic', 'climate_worship', 'climatists', 'alarmist', 'compliant_medium', 'climate_hysteria', 'climate_narrative', 'climate_cult', 'scientism', 'climate_science_myth', 'lie_in_science', 'climate_apocalypse', 'propaganda', 'doomsayers', 'clown_show', 'fake_climate', 'climate_change_agenda', 'money_make', 'fake_news', 'climate_terrorist'], 6: ['globalist', 'globalist_elite', 'elitist', 'global_government', 'one_world', 'one_world_government', 'globalism', 'one_world_utopia', 'new_world_order', 'enrich_themselves', 'save_the_planet', 'control_over_your_life', 'tyranny', 'global_elite', 'wef', 'population_control']}\n",
      "{1: ['no_climat_emerg', 'melt', 'arctic_ice', 'arctic_sea_ice', 'sea_level_rise', 'extrem_weather', 'global_cool', 'greenland_ice', 'ice_cap', 'arctic_ice', 'extrem_heat', 'extrem_cold'], 2: ['natur_cycl', 'co2_is_not_the_caus', 'greenhous_gas', 'no_co2_greenhous_effect', 'no_effect', 'miniscul_effect', 'man_has_no_control'], 3: ['plant_food', 'plant_growth', 'thrive', 'carbon_element_is_essenti', 'averag_temperatur_increas', '1_degre', 'more_fossil_fuel', 'no_co2', 'plant_food', 'not_pollut', '0.1c', 'ppm', 'not_a_pollut'], 4: ['green_energi', 'renew_energi', 'energi_product', 'windmil', 'solar_panel'], 5: ['alarm', 'catastrophist', 'doomsday_cult', 'climat_hyster', 'unscientif', 'corrupt_politician', 'lie_about_everyth', 'idioci', 'lunat', 'climat_worship', 'climatist', 'alarmist', 'compliant_media', 'climat_hysteria', 'climat_narrat', 'climat_cult', 'scientism', 'climat_scienc_myth', 'lie_in_scienc', 'climat_apocalyps', 'propaganda', 'doomsay', 'clown_show', 'fake_climat', 'climat_chang_agenda', 'money_made', 'fake_news', 'climat_terrorist'], 6: ['globalist', 'globalist_elit', 'elitist', 'global_govern', 'one_world', 'one_world_govern', 'global', 'one_world_utopia', 'new_world_order', 'enrich_themselv', 'save_the_planet', 'control_over_your_live', 'tyranni', 'global_elit', 'wef', 'popul_control']}\n"
     ]
    }
   ],
   "source": [
    "# Creating the dictionaries for the classifier\n",
    "keyword_dict_lemmatized = {\n",
    "    1: sc1_kw_lemmatized,\n",
    "    2: sc2_kw_lemmatized,\n",
    "    3: sc3_kw_lemmatized,\n",
    "    4: sc4_kw_lemmatized,\n",
    "    5: sc5_kw_lemmatized,\n",
    "    6: sc7_kw_lemmatized\n",
    "}\n",
    "\n",
    "\n",
    "keyword_dict_stemmed = {\n",
    "    1: sc1_kw_stemmed,\n",
    "    2: sc2_kw_stemmed,\n",
    "    3: sc3_kw_stemmed,\n",
    "    4: sc4_kw_stemmed,\n",
    "    5: sc5_kw_stemmed,\n",
    "    6: sc7_kw_stemmed\n",
    "}\n",
    "\n",
    "keyword_dict_lemmatized_valid = {\n",
    "    1: ['climate'],\n",
    "    2: ['climate_change']\n",
    "}\n",
    "\n",
    "#print keyword dictionaries\n",
    "print(keyword_dict_lemmatized)\n",
    "print(keyword_dict_stemmed)"
   ]
  },
  {
   "cell_type": "markdown",
   "metadata": {},
   "source": [
    "## Classifier\n",
    "\n",
    "Classification of YouTube comments related to each claim, based on the text of the comment."
   ]
  },
  {
   "cell_type": "code",
   "execution_count": 61,
   "metadata": {},
   "outputs": [],
   "source": [
    "# Classifiying the comments into categories\n",
    "def classify_comments(comments, keyword_dict):\n",
    "    classifications = [] #initialize empty list of classifications\n",
    "    \n",
    "    for comment in comments: #loop through each comment of the df \n",
    "        categories = [] #initialize empty list of categories\n",
    "        comment_str = \",\".join(comment)  # Join the tokens of one comement into a single string for easier matching\n",
    "        \n",
    "        for category, keywords in keyword_dict.items(): #iterating through each key-value pair of the dictionary\n",
    "            for keyword in keywords: #for each category: iterate through list of keywords. Check if each keyword is present in comment_str\n",
    "                if keyword in comment_str:\n",
    "                    categories.append(category) #if a keyworrd is found, the category is appended to list.\n",
    "                    break  # Stop checking more keywords for this category\n",
    "        \n",
    "        if not categories:\n",
    "            categories = ['uncategorized']\n",
    "        \n",
    "        classifications.append(categories)\n",
    "    \n",
    "    return classifications\n",
    "\n",
    "# Apply classifier to lemmatized comments \n",
    "processed_df['category_lemmatized_comments'] = classify_comments(processed_df['all_n_grams_lemmatized'], keyword_dict_lemmatized)\n"
   ]
  },
  {
   "cell_type": "code",
   "execution_count": 62,
   "metadata": {},
   "outputs": [
    {
     "data": {
      "text/plain": [
       "category_lemmatized_comments\n",
       "[uncategorized]    88626\n",
       "[5]                 2957\n",
       "[6]                 1891\n",
       "[1]                 1083\n",
       "[4]                  580\n",
       "[3]                  571\n",
       "[2]                  296\n",
       "[5, 6]               141\n",
       "[1, 5]                72\n",
       "[3, 5]                51\n",
       "[1, 3]                42\n",
       "[2, 3]                38\n",
       "[3, 6]                30\n",
       "[4, 5]                28\n",
       "[1, 6]                28\n",
       "[1, 2]                25\n",
       "[2, 5]                18\n",
       "[1, 4]                18\n",
       "[4, 6]                16\n",
       "[3, 4]                11\n",
       "[2, 4]                10\n",
       "[1, 3, 5]              9\n",
       "[1, 2, 3, 5]           7\n",
       "[2, 6]                 7\n",
       "[1, 5, 6]              5\n",
       "[1, 2, 3]              5\n",
       "[2, 3, 5]              5\n",
       "[1, 2, 5]              4\n",
       "[2, 3, 5, 6]           4\n",
       "[1, 3, 6]              3\n",
       "[1, 3, 4, 6]           3\n",
       "[1, 2, 6]              2\n",
       "[2, 5, 6]              1\n",
       "[1, 2, 4]              1\n",
       "[3, 5, 6]              1\n",
       "[1, 2, 3, 4, 5]        1\n",
       "[2, 3, 4]              1\n",
       "[1, 3, 4, 5]           1\n",
       "[1, 2, 3, 5, 6]        1\n",
       "[3, 4, 6]              1\n",
       "[2, 4, 5]              1\n",
       "Name: count, dtype: int64"
      ]
     },
     "execution_count": 62,
     "metadata": {},
     "output_type": "execute_result"
    }
   ],
   "source": [
    "# Categories Count of Lemmatized Unigrams\n",
    "processed_df['category_lemmatized_comments'].value_counts()"
   ]
  },
  {
   "cell_type": "code",
   "execution_count": 63,
   "metadata": {},
   "outputs": [
    {
     "name": "stdout",
     "output_type": "stream",
     "text": [
      "category_lemmatized_comments_validated\n",
      "[uncategorized]    81518\n",
      "[1]                 7795\n",
      "[1, 2]              7282\n",
      "Name: count, dtype: int64\n"
     ]
    }
   ],
   "source": [
    "# Categories of Validation with Climate and Climate Change\n",
    "processed_df['category_lemmatized_comments_validated'] = classify_comments(processed_df['all_n_grams_lemmatized'], keyword_dict_lemmatized_valid)\n",
    "print(processed_df['category_lemmatized_comments_validated'].value_counts())"
   ]
  },
  {
   "cell_type": "markdown",
   "metadata": {},
   "source": [
    "## Network Analysis\n",
    "\n",
    "Building a network for the interconnected Claims based on the Fruchterman-Reingold algorithm"
   ]
  },
  {
   "cell_type": "code",
   "execution_count": 64,
   "metadata": {},
   "outputs": [],
   "source": [
    "# filter interconnected claims\n",
    "processed_df_network = processed_df[['category_lemmatized_comments','author', 'video_id']]\n",
    "processed_df_network = processed_df_network[~processed_df_network['category_lemmatized_comments'].apply(lambda x: 'uncategorized' in x)]"
   ]
  },
  {
   "cell_type": "code",
   "execution_count": 65,
   "metadata": {},
   "outputs": [],
   "source": [
    "# Initialize a dictionary to hold co-occurrence counts\n",
    "co_occurrence = defaultdict(int)\n",
    "\n",
    "# Iterate over the DataFrame\n",
    "for categories in processed_df_network['category_lemmatized_comments']:\n",
    "    for category_pair in itertools.combinations(categories, 2):\n",
    "        co_occurrence[tuple(sorted(category_pair))] += 1\n",
    "\n",
    "# Convert the co-occurrence dictionary to a DataFrame (adjacency matrix)\n",
    "adj_matrix = pd.DataFrame.from_dict(co_occurrence, orient='index', columns=['weight'])\n",
    "adj_matrix = adj_matrix.reset_index()\n",
    "adj_matrix[['category1', 'category2']] = pd.DataFrame(adj_matrix['index'].tolist(), index=adj_matrix.index)\n",
    "adj_matrix = adj_matrix.drop(columns='index')"
   ]
  },
  {
   "cell_type": "code",
   "execution_count": 66,
   "metadata": {},
   "outputs": [
    {
     "name": "stdout",
     "output_type": "stream",
     "text": [
      "[1, 4, 3, 5, 6, 2]\n",
      "[(1, 4, {'weight': 24}), (1, 3, {'weight': 72}), (1, 6, {'weight': 42}), (1, 2, {'weight': 46}), (1, 5, {'weight': 100}), (4, 5, {'weight': 31}), (4, 6, {'weight': 20}), (4, 3, {'weight': 18}), (4, 2, {'weight': 14}), (3, 5, {'weight': 80}), (3, 6, {'weight': 43}), (3, 2, {'weight': 62}), (5, 6, {'weight': 153}), (5, 2, {'weight': 42}), (6, 2, {'weight': 15})]\n"
     ]
    }
   ],
   "source": [
    "# Create the graph\n",
    "G = nx.Graph()\n",
    "\n",
    "# Add edges with weights\n",
    "for _, row in adj_matrix.iterrows():\n",
    "    G.add_edge(row['category1'], row['category2'], weight=row['weight'])\n",
    "\n",
    "# Optional: Add nodes for categories with no edges\n",
    "for category in processed_df_network['category_lemmatized_comments'].explode().unique():\n",
    "    if category not in G:\n",
    "        G.add_node(category)\n",
    "\n",
    "print(G.nodes())\n",
    "print(G.edges(data=True))"
   ]
  },
  {
   "cell_type": "code",
   "execution_count": 67,
   "metadata": {},
   "outputs": [
    {
     "data": {
      "image/png": "[encoded data removed]",
      "text/plain": [
       "<Figure size 800x800 with 1 Axes>"
      ]
     },
     "metadata": {},
     "output_type": "display_data"
    }
   ],
   "source": [
    "# Compute positions using the Fruchterman-Reingold algorithm\n",
    "pos = nx.spring_layout(G, seed=42)  # seed for reproducibility\n",
    "\n",
    "# Extract edge weights\n",
    "edge_weights = [d['weight'] for u, v, d in G.edges(data=True)]\n",
    "\n",
    "# Normalize edge weights for better visualization\n",
    "max_weight = max(edge_weights)\n",
    "edge_widths = [w / max_weight * 5 for w in edge_weights]  # Scaling factor (5) can be adjusted as needed\n",
    "\n",
    "# Draw the graph\n",
    "plt.figure(figsize=(8, 8))  # Adjust the figure size as needed\n",
    "nx.draw(G, pos, with_labels=True, node_size=700, node_color='lightblue', font_size=10, font_weight='bold', \n",
    "        width=edge_widths, edge_color='gray')  # Specify edge width\n",
    "\n",
    "plt.axis('off')  # Turn off axis\n",
    "plt.show()\n"
   ]
  },
  {
   "cell_type": "markdown",
   "metadata": {},
   "source": [
    "## Tracking Uncategorized Comments\n",
    "\n",
    "to find out why many of the comments are uncategorized we backtrack them to the channel to see if there is any relationship.\n",
    "Based on the video id which we have for each comment we can use the YouTube API to get the channel name.\n",
    "\n",
    "> **Important**: Insert your API Key in the Script"
   ]
  },
  {
   "cell_type": "code",
   "execution_count": 68,
   "metadata": {},
   "outputs": [
    {
     "name": "stderr",
     "output_type": "stream",
     "text": [
      "/var/folders/0t/kqk1ph5n4ds0_g7v6gyknwdh0000gn/T/ipykernel_40937/581894756.py:2: SettingWithCopyWarning: \n",
      "A value is trying to be set on a copy of a slice from a DataFrame.\n",
      "Try using .loc[row_indexer,col_indexer] = value instead\n",
      "\n",
      "See the caveats in the documentation: https://pandas.pydata.org/pandas-docs/stable/user_guide/indexing.html#returning-a-view-versus-a-copy\n",
      "  processed_df['category'] = processed_df['category_lemmatized_comments'].apply(lambda x: ', '.join(map(str, x)))\n"
     ]
    }
   ],
   "source": [
    "processed_df = processed_df[['category_lemmatized_comments', 'video_id']]\n",
    "processed_df['category'] = processed_df['category_lemmatized_comments'].apply(lambda x: ', '.join(map(str, x)))\n",
    "processed_df = processed_df[processed_df['category'] == 'uncategorized']\n",
    "processed_df = processed_df.groupby('video_id')['category'].value_counts().reset_index(name='Category_Count')"
   ]
  },
  {
   "cell_type": "code",
   "execution_count": 69,
   "metadata": {},
   "outputs": [],
   "source": [
    "# Replace with your API key\n",
    "API_KEY = api_key_1\n",
    "def get_channel_name(video_id):\n",
    "    # Build the YouTube service object\n",
    "    youtube = build('youtube', 'v3', developerKey=API_KEY)\n",
    "    \n",
    "    try:\n",
    "        # Request video details\n",
    "        video_response = youtube.videos().list(\n",
    "            part='snippet',\n",
    "            id=video_id\n",
    "        ).execute()\n",
    "        \n",
    "        # Extract channel ID from video details\n",
    "        channel_id = video_response['items'][0]['snippet']['channelId']\n",
    "        \n",
    "        # Request channel details\n",
    "        channel_response = youtube.channels().list(\n",
    "            part='snippet',\n",
    "            id=channel_id\n",
    "        ).execute()\n",
    "        \n",
    "        # Extract channel name from channel details\n",
    "        channel_name = channel_response['items'][0]['snippet']['title']\n",
    "        \n",
    "        return channel_name\n",
    "    \n",
    "    except:\n",
    "        return None  # Return None if there's an error\n",
    "\n",
    "# Function to get channel name for each video ID\n",
    "def get_channel_names(row):\n",
    "    return get_channel_name(row['video_id'])\n",
    "\n",
    "# Apply the function to each row in the DataFrame\n",
    "processed_df['channel_name'] = processed_df.apply(get_channel_names, axis=1)"
   ]
  },
  {
   "cell_type": "code",
   "execution_count": 70,
   "metadata": {},
   "outputs": [
    {
     "data": {
      "text/html": [
       "<div>\n",
       "<style scoped>\n",
       "    .dataframe tbody tr th:only-of-type {\n",
       "        vertical-align: middle;\n",
       "    }\n",
       "\n",
       "    .dataframe tbody tr th {\n",
       "        vertical-align: top;\n",
       "    }\n",
       "\n",
       "    .dataframe thead th {\n",
       "        text-align: right;\n",
       "    }\n",
       "</style>\n",
       "<table border=\"1\" class=\"dataframe\">\n",
       "  <thead>\n",
       "    <tr style=\"text-align: right;\">\n",
       "      <th></th>\n",
       "      <th>channel_name</th>\n",
       "      <th>Category_Count</th>\n",
       "    </tr>\n",
       "  </thead>\n",
       "  <tbody>\n",
       "    <tr>\n",
       "      <th>10</th>\n",
       "      <td>Tony Heller</td>\n",
       "      <td>30334</td>\n",
       "    </tr>\n",
       "    <tr>\n",
       "      <th>5</th>\n",
       "      <td>PowerfulJRE</td>\n",
       "      <td>12177</td>\n",
       "    </tr>\n",
       "    <tr>\n",
       "      <th>1</th>\n",
       "      <td>BlazeTV</td>\n",
       "      <td>11373</td>\n",
       "    </tr>\n",
       "    <tr>\n",
       "      <th>8</th>\n",
       "      <td>Redacted</td>\n",
       "      <td>8306</td>\n",
       "    </tr>\n",
       "    <tr>\n",
       "      <th>9</th>\n",
       "      <td>Tom Nelson</td>\n",
       "      <td>7138</td>\n",
       "    </tr>\n",
       "    <tr>\n",
       "      <th>6</th>\n",
       "      <td>PragerU</td>\n",
       "      <td>7032</td>\n",
       "    </tr>\n",
       "    <tr>\n",
       "      <th>2</th>\n",
       "      <td>Jordan B Peterson</td>\n",
       "      <td>6802</td>\n",
       "    </tr>\n",
       "    <tr>\n",
       "      <th>7</th>\n",
       "      <td>ReasonTV</td>\n",
       "      <td>1768</td>\n",
       "    </tr>\n",
       "    <tr>\n",
       "      <th>0</th>\n",
       "      <td>Blaze News</td>\n",
       "      <td>1577</td>\n",
       "    </tr>\n",
       "    <tr>\n",
       "      <th>4</th>\n",
       "      <td>Newsmax</td>\n",
       "      <td>1175</td>\n",
       "    </tr>\n",
       "    <tr>\n",
       "      <th>3</th>\n",
       "      <td>Lex Clips</td>\n",
       "      <td>669</td>\n",
       "    </tr>\n",
       "  </tbody>\n",
       "</table>\n",
       "</div>"
      ],
      "text/plain": [
       "         channel_name  Category_Count\n",
       "10        Tony Heller           30334\n",
       "5         PowerfulJRE           12177\n",
       "1             BlazeTV           11373\n",
       "8            Redacted            8306\n",
       "9          Tom Nelson            7138\n",
       "6             PragerU            7032\n",
       "2   Jordan B Peterson            6802\n",
       "7            ReasonTV            1768\n",
       "0          Blaze News            1577\n",
       "4             Newsmax            1175\n",
       "3           Lex Clips             669"
      ]
     },
     "execution_count": 70,
     "metadata": {},
     "output_type": "execute_result"
    }
   ],
   "source": [
    "processed_df = processed_df.groupby('channel_name')['Category_Count'].sum().reset_index()\n",
    "processed_df.sort_values('Category_Count',ascending=False,inplace=True)\n",
    "processed_df"
   ]
  }
 ],
 "metadata": {
  "kernelspec": {
   "display_name": "Python 3",
   "language": "python",
   "name": "python3"
  },
  "language_info": {
   "codemirror_mode": {
    "name": "ipython",
    "version": 3
   },
   "file_extension": ".py",
   "mimetype": "text/x-python",
   "name": "python",
   "nbconvert_exporter": "python",
   "pygments_lexer": "ipython3",
   "version": "3.11.1"
  }
 },
 "nbformat": 4,
 "nbformat_minor": 2
}
