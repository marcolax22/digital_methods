{
 "cells": [
  {
   "cell_type": "markdown",
   "metadata": {},
   "source": [
    "# Digital Methods - Sampling for Immersion Journal\n",
    "\n",
    "____\n",
    "\n",
    "This codebook consist of a sampling method to get a first impression about comment.\n",
    "For each Youtube Channel a random sample of 5 videos is taken, for each of the videos:\n",
    "\n",
    "- We are using 10 random comments\n",
    "- We are sampling 10 random comments \n",
    "\n",
    "If a video consist of less comments the rest of the not used comments is added to the dataframe. \n",
    "Each channel will therefore produce a dataframe with 100 entries if the videos have enough comments."
   ]
  },
  {
   "cell_type": "code",
   "execution_count": null,
   "metadata": {},
   "outputs": [],
   "source": [
    "# load packages\n",
    "import pandas as pd \n",
    "from random import sample\n",
    "import numpy as np"
   ]
  },
  {
   "cell_type": "code",
   "execution_count": null,
   "metadata": {},
   "outputs": [],
   "source": [
    "# load data\n",
    "df = pd.read_csv('')"
   ]
  },
  {
   "cell_type": "code",
   "execution_count": null,
   "metadata": {},
   "outputs": [],
   "source": [
    "# save sample\n",
    "'''INSERT PATH TO SAVE AND STORE FILE'''\n",
    "sample_file = ''"
   ]
  },
  {
   "cell_type": "code",
   "execution_count": null,
   "metadata": {},
   "outputs": [],
   "source": [
    "# create function for sampling out of each channel\n",
    "def sample_comments(data, random_state=42):\n",
    "    '''This function samples 10 random comments and the 10 most liked comments\n",
    "    from each of 5 randomly selected videos in the provided DataFrame.'''\n",
    "    # Set random state for reproducibility\n",
    "    np.random.seed(random_state)\n",
    "    \n",
    "    # Sample 5 unique video IDs\n",
    "    list_sample = sample(list(data['video_id'].unique()), 5)\n",
    "\n",
    "    samples = []\n",
    "\n",
    "    for video_id in list_sample:\n",
    "        video_sample = data[data['video_id'] == video_id]\n",
    "        \n",
    "        # Get the top 10 comments by like_count\n",
    "        top_10 = video_sample.sort_values('like_count', ascending=False).head(10)\n",
    "        \n",
    "        # Exclude top 10 from the rest\n",
    "        rest_of_the_comments = video_sample.loc[~video_sample.index.isin(top_10.index)]\n",
    "        \n",
    "        # Sample 10 random comments from the rest\n",
    "        if len(rest_of_the_comments) >= 10:\n",
    "            random_comments = rest_of_the_comments.sample(10, random_state=random_state)\n",
    "        else:\n",
    "            random_comments = rest_of_the_comments\n",
    "        \n",
    "        # Append the sampled comments\n",
    "        samples.append(random_comments)\n",
    "        samples.append(top_10)\n",
    "\n",
    "    # Concatenate all samples and reset index\n",
    "    sampled_data = pd.concat(samples).reset_index(drop=True)\n",
    "    \n",
    "    return sampled_data\n"
   ]
  },
  {
   "cell_type": "code",
   "execution_count": null,
   "metadata": {},
   "outputs": [],
   "source": [
    "# show sample data frame\n",
    "sample = sample_comments(df)\n",
    "sample = sample.drop(df.columns[:1], axis=1)\n",
    "sample"
   ]
  },
  {
   "cell_type": "code",
   "execution_count": null,
   "metadata": {},
   "outputs": [],
   "source": [
    "# save excel file\n",
    "sample.to_excel(sample_file)  "
   ]
  }
 ],
 "metadata": {
  "kernelspec": {
   "display_name": "Python 3",
   "language": "python",
   "name": "python3"
  },
  "language_info": {
   "codemirror_mode": {
    "name": "ipython",
    "version": 3
   },
   "file_extension": ".py",
   "mimetype": "text/x-python",
   "name": "python",
   "nbconvert_exporter": "python",
   "pygments_lexer": "ipython3",
   "version": "3.11.1"
  }
 },
 "nbformat": 4,
 "nbformat_minor": 2
}
