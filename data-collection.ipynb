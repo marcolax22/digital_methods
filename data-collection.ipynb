{
 "cells": [
  {
   "cell_type": "markdown",
   "metadata": {},
   "source": [
    "# Digital Methods - Data Collection\n",
    "_____\n",
    "\n",
    "## Table of Content\n",
    "\n",
    "1. [Libraries](#libraries)\n",
    "2. [Youtube Search API](#youtube-search-api)\n",
    "3. [Filter Videos by Keywords](#filter-videos-by-keyword)\n",
    "3. [Youtube API](#youtube-api)\n",
    "\n",
    "_____"
   ]
  },
  {
   "cell_type": "markdown",
   "metadata": {},
   "source": [
    "## Libraries\n",
    "\n",
    "All libraries which are needed to execute the code are listed here. Install the packages by using the `requirements.txt` file. \n",
    "\n",
    "The documentation can be found in the [README.md](README.md) file."
   ]
  },
  {
   "cell_type": "code",
   "execution_count": 52,
   "metadata": {},
   "outputs": [],
   "source": [
    "# import packages\n",
    "import googleapiclient.discovery\n",
    "import pandas as pd\n",
    "from googleapiclient.discovery import build\n",
    "import os  \n",
    "\n",
    "#import script --- CREATING SCRIPT TO IMPORT API KEY ---\n",
    "from api_key import api_key_1"
   ]
  },
  {
   "cell_type": "code",
   "execution_count": 53,
   "metadata": {},
   "outputs": [],
   "source": [
    "# credentials for your Youtube API\n",
    "\n",
    "#-----enter here-------\n",
    "api_service_name = \"youtube\"\n",
    "api_version = \"v3\"\n",
    "DEVELOPER_KEY = api_key_1"
   ]
  },
  {
   "cell_type": "code",
   "execution_count": 247,
   "metadata": {},
   "outputs": [],
   "source": [
    "# define paths\n",
    "'''INSERT YOUR PATH HERE TO SAVE YOUR FILES'''\n",
    "directory_path = ''\n",
    "directory_path_new_file = ''\n",
    "comment_file = ''"
   ]
  },
  {
   "cell_type": "code",
   "execution_count": null,
   "metadata": {},
   "outputs": [],
   "source": [
    "# list of channels we looked at\n",
    "channel_ids = ['UC3e7Z56naX4KTrs9l7nSyWw', 'UCKgJEs_v0JB-6jWb8lIy9Xw', 'UC4T4vA6MTWS2QE2C6o8Sevw',\n",
    "               'UCL_f53ZEJxp8TtlOkHwMV9Q', 'UCprclkVrNPls7PR-nHhf1Ow', 'UCfZS_wFmJCXqPr4MYtAIN6w',\n",
    "               'UCJIfeSCssxSC_Dhc5s7woww', 'UCx6h-dWzJ5NpAlja1YsApdg', 'UCtdbWsnfA08KhSUO4amVLaQ',\n",
    "               'UCzQUP1qoWDoEbmsQxvdjxgQ', 'UCZWlSUNDvCCS1hBiXV0zKcA', 'UC0uVZd8N7FfIZnPu0y7o95A',\n",
    "               'UCoJhK5kMc4LjBKdiYrDtzlA', 'UCPsCJ1j0G45FnRGqJhCHLiA']"
   ]
  },
  {
   "cell_type": "code",
   "execution_count": 36,
   "metadata": {},
   "outputs": [],
   "source": [
    "# Initialize the YouTube API client\n",
    "youtube = googleapiclient.discovery.build(\n",
    "    api_service_name, api_version, developerKey=DEVELOPER_KEY)"
   ]
  },
  {
   "cell_type": "markdown",
   "metadata": {},
   "source": [
    "## Youtube Search API\n",
    "\n",
    "You can find the documentation for the Youtube Data API here: https://developers.google.com/youtube/v3"
   ]
  },
  {
   "cell_type": "code",
   "execution_count": 37,
   "metadata": {},
   "outputs": [],
   "source": [
    "# List of channel IDs you want to search on\n",
    "channel_ids = ['']\n",
    "\n",
    "# List of query terms\n",
    "queries = ['climate', 'climate change', 'climate crisis', 'climate emergency',\n",
    "           'greenhouse', 'greenhouse gas', 'green energy', 'environment',\n",
    "           'extreme weather', 'heat', 'cooling', 'hurricane', 'floods', 'ice age',\n",
    "           'wildfire', 'drought', 'temperature', 'warming', 'greta', 'greta thunberg',\n",
    "           'fossil fuel', 'energy', 'renewable', 'fracking', 'co2', 'carbon dioxide',\n",
    "           'pollution', 'net emissions', 'net zero', 'alarmism', 'biodiversity', \n",
    "           'extinction', 'antartica', 'greenland', 'galciers', 'artic', '97 percent', 'cop',\n",
    "           'natural cycles', 'sea level', 'climate lockdown']\n",
    "\n",
    "# Create an empty list to store video information\n",
    "video_data = []\n",
    "\n",
    "# Iterate over each channel ID\n",
    "for channel_id in channel_ids:\n",
    "    # Iterate over each query term\n",
    "    for query in queries:\n",
    "        # Make the search request\n",
    "        search_response = youtube.search().list(\n",
    "            q=query,\n",
    "            channelId=channel_id,\n",
    "            type='video',\n",
    "            part='id,snippet',\n",
    "            maxResults=50,\n",
    "            publishedAfter='2023-01-01T00:00:00Z'  # Ensure videos are published after January 1, 2023\n",
    "        ).execute()\n",
    "\n",
    "        # Parse the response and append video information to the list\n",
    "        for search_result in search_response.get('items', []):\n",
    "            if search_result['id']['kind'] == 'youtube#video':\n",
    "                video_id = search_result['id']['videoId']\n",
    "                video_response = youtube.videos().list(\n",
    "                    part=\"snippet,statistics\",\n",
    "                    id=video_id\n",
    "                ).execute()\n",
    "                video_description = video_response['items'][0]['snippet']['description'] \n",
    "                video_title = search_result['snippet']['title']\n",
    "                published_at = search_result['snippet']['publishedAt']\n",
    "                channel_name = search_result['snippet']['channelTitle']\n",
    "                comment_count = video_response['items'][0]['statistics'].get('commentCount', 0)\n",
    "                like_count = video_response['items'][0]['statistics'].get('likeCount', 0)\n",
    "                category = video_response['items'][0]['snippet'].get('categoryId', 'Not available')\n",
    "\n",
    "                video_data.append({\n",
    "                    \"title\": video_title,\n",
    "                    \"video_id\": video_id,\n",
    "                    \"published_at\": published_at,\n",
    "                    \"channel_name\": channel_name,\n",
    "                    \"description\": video_description,\n",
    "                    \"comment_count\": comment_count,\n",
    "                    \"like_count\": like_count,\n",
    "                    \"category\": category\n",
    "                })\n",
    "\n",
    "# Create a DataFrame from the list of video information\n",
    "df = pd.DataFrame(video_data)"
   ]
  },
  {
   "cell_type": "code",
   "execution_count": 38,
   "metadata": {},
   "outputs": [],
   "source": [
    "# Remove duplicates from the 'video_id' column\n",
    "df.drop_duplicates(subset='video_id', inplace=True)"
   ]
  },
  {
   "cell_type": "code",
   "execution_count": 57,
   "metadata": {},
   "outputs": [],
   "source": [
    "# safe csv file  \n",
    "df.to_csv(directory_path)  "
   ]
  },
  {
   "cell_type": "markdown",
   "metadata": {},
   "source": [
    "## Filter videos by keyword\n",
    "\n",
    "This section is filtering the videos with a second query, since the first query is based on the youtube algorithm and therefore just a first step to organise the videos based on the topic of interest."
   ]
  },
  {
   "cell_type": "code",
   "execution_count": 231,
   "metadata": {},
   "outputs": [],
   "source": [
    "df = pd.read_csv(directory_path, index_col=0)"
   ]
  },
  {
   "cell_type": "code",
   "execution_count": 233,
   "metadata": {},
   "outputs": [],
   "source": [
    "# dataframe as int and str\n",
    "df['comment_count'] = df['comment_count'].astype(int)\n",
    "df['title'] = df['title'].astype(str)\n",
    "df['description'] = df['description'].astype(str)"
   ]
  },
  {
   "cell_type": "code",
   "execution_count": 234,
   "metadata": {},
   "outputs": [],
   "source": [
    "# Define reference list of words to check for\n",
    "reference_words = [\n",
    "    \"climate\", \"green hypocrisy\", \"green policies\", \"green policy\", \"environmental\", \"net zero\",\n",
    "    \"green propaganda\", \"greenflation\", \"green apocalypse\", \"green boondoggles\", \"green hysteria\",\n",
    "    \"heatwave hysteria\", \"global boiling\", \"greta's doomsday\", \"gretas doomsday\", \"eco-fascism\",\n",
    "    \"eco fascism\", \"greta thumberg\", \"cop26\", \"green economy\", \"the end of snow\", \"sea level check\",\n",
    "    \"hurricanes\", \"eco-colonialism\", \"eco colonialism\", \"glaciers\", \"alarmism\", \"energy catastrophe\",\n",
    "    \"carbon tax\", \"clean energy regulations\", \"wild fires\", \"wildfire\", \"emissions reduction plan\",\n",
    "    \"low carbon diet\", \"heat waves\", \"clean environment\", \"save the planet\", \"global boiling\",\n",
    "    \"save the environment\", \"global warming\", \"solar panel\", \"liquid natural gas ban\",\n",
    "    \"environmental justice\", \"green movement\", \"green crackdown\", \"green dogma\", \"greta thunberg\",\n",
    "    \"greenhouse gas\", \"CO2\", \"rising sea levels\", \"green police\", \"unprecedented weather conditions\",\n",
    "    \"energy markets\", \"unreliable renewables\", \"renewable energy\", \"religion of green\", \"fossil fuel\",\n",
    "    \"eco terrorism\", \"eco-terrorism\", \"cloud seeding\", \"green energy\", \"vandalizing famous paintings\"\n",
    "]\n",
    "\n",
    "# Function to check if any reference word appears in the text\n",
    "def contains_reference(text):\n",
    "    for word in reference_words:\n",
    "        if word in text:\n",
    "            return True\n",
    "    return False\n",
    "\n",
    "# Iterate over each row in the DataFrame\n",
    "for index, row in df.iterrows():\n",
    "    # Convert 'Title' and 'Description' columns to lowercase\n",
    "    title_lower = row['title'].lower()\n",
    "    description_lower = row['description'].lower()\n",
    "\n",
    "    # Check if any of the reference words appear in either column\n",
    "\n",
    "        #---we changed to statement to AND if the Youtube Channel is a podcast channel\n",
    "    if contains_reference(title_lower) or contains_reference(description_lower):\n",
    "        # Word found, keep the row\n",
    "        pass\n",
    "    else:\n",
    "        # No matching words found, drop the row\n",
    "        df.drop(index, inplace=True)\n",
    "\n",
    "# Reset the index after dropping rows\n",
    "df.reset_index(drop=True, inplace=True)\n",
    "df.drop_duplicates(subset='video_id', inplace=True)"
   ]
  },
  {
   "cell_type": "code",
   "execution_count": 235,
   "metadata": {},
   "outputs": [
    {
     "data": {
      "text/plain": [
       "1770"
      ]
     },
     "execution_count": 235,
     "metadata": {},
     "output_type": "execute_result"
    }
   ],
   "source": [
    "# get sum of comment\n",
    "sum(df['comment_count'])"
   ]
  },
  {
   "cell_type": "code",
   "execution_count": 239,
   "metadata": {},
   "outputs": [],
   "source": [
    "# Fetch video categories\n",
    "categories_response = youtube.videoCategories().list(\n",
    "    part=\"snippet\",\n",
    "    regionCode=\"US\" \n",
    ").execute()\n",
    "\n",
    "# Create a dictionary to map category IDs to category names\n",
    "category_map = {}\n",
    "for category in categories_response['items']:\n",
    "    category_map[category['id']] = category['snippet']['title']\n",
    "\n",
    "# Now, loop over category column in your DataFrame\n",
    "for index, row in df.iterrows():\n",
    "    category_id = row['category']\n",
    "    category_name = category_map.get(category_id, \"Unknown\")\n",
    "    df.at[index, 'category'] = category_name"
   ]
  },
  {
   "cell_type": "code",
   "execution_count": 240,
   "metadata": {},
   "outputs": [],
   "source": [
    "# safe csv file  \n",
    "df.to_csv(directory_path_new_file)  "
   ]
  },
  {
   "cell_type": "markdown",
   "metadata": {},
   "source": [
    "## Youtube API\n",
    "\n",
    "Accessing the YouTube comments of each video which is related to the topic of climate change. Therefore we take the video_id from the created dataframe to access the comments for each video."
   ]
  },
  {
   "cell_type": "code",
   "execution_count": 241,
   "metadata": {},
   "outputs": [],
   "source": [
    "# load data frame with all related videos about climate change\n",
    "df = pd.read_csv(directory_path_new_file, index_col=0)\n"
   ]
  },
  {
   "cell_type": "code",
   "execution_count": 243,
   "metadata": {},
   "outputs": [],
   "source": [
    "# Initialize an empty list to store comments\n",
    "all_comments_data = []\n",
    "\n",
    "# Iterate over each row in the DataFrame\n",
    "for index, row in df.iterrows():\n",
    "    video_id = row['video_id']\n",
    "    \n",
    "    # Initialize the nextPageToken variable\n",
    "    next_page_token = None\n",
    "\n",
    "    while True:\n",
    "        # Make a request to fetch comments for the video\n",
    "        comments_response = youtube.commentThreads().list(\n",
    "            part=\"snippet\",\n",
    "            videoId=video_id,\n",
    "            textFormat=\"plainText\",\n",
    "            maxResults=100,  # You can only request up to 100 comments per page\n",
    "            pageToken=next_page_token\n",
    "        ).execute()\n",
    "\n",
    "        # Iterate over each comment thread in the response\n",
    "        for comment_thread in comments_response['items']:\n",
    "            comment_snippet = comment_thread['snippet']['topLevelComment']['snippet']\n",
    "            published_at = comment_snippet['publishedAt']\n",
    "            like_count = comment_snippet['likeCount']\n",
    "            comment_text = comment_snippet['textDisplay']\n",
    "            author = comment_snippet['authorDisplayName']\n",
    "\n",
    "            comment_data = {\n",
    "                \"video_id\": video_id,\n",
    "                \"published_at\": published_at,\n",
    "                \"like_count\": like_count,\n",
    "                \"text\": comment_text,\n",
    "                \"author\": author\n",
    "            }\n",
    "\n",
    "            all_comments_data.append(comment_data)\n",
    "\n",
    "        # Check if there is a nextPageToken in the response\n",
    "        next_page_token = comments_response.get('nextPageToken')\n",
    "\n",
    "        # If no nextPageToken, break the loop\n",
    "        if not next_page_token:\n",
    "            break\n",
    "\n",
    "# Create a DataFrame from the list of comments\n",
    "comments_df = pd.DataFrame(all_comments_data)"
   ]
  },
  {
   "cell_type": "code",
   "execution_count": 245,
   "metadata": {},
   "outputs": [],
   "source": [
    "# safe csv file  \n",
    "comments_df.to_csv(comment_file)  "
   ]
  }
 ],
 "metadata": {
  "kernelspec": {
   "display_name": "Python 3",
   "language": "python",
   "name": "python3"
  },
  "language_info": {
   "codemirror_mode": {
    "name": "ipython",
    "version": 3
   },
   "file_extension": ".py",
   "mimetype": "text/x-python",
   "name": "python",
   "nbconvert_exporter": "python",
   "pygments_lexer": "ipython3",
   "version": "3.11.1"
  }
 },
 "nbformat": 4,
 "nbformat_minor": 2
}
