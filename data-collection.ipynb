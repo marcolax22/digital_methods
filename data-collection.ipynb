{
 "cells": [
  {
   "cell_type": "markdown",
   "metadata": {},
   "source": [
    "# Digital Methods - Data Collection\n",
    "_____\n",
    "\n",
    "## Table of Content\n",
    "\n",
    "1. [Libraries](#libraries)\n",
    "2. [Youtube Search API](#youtube-search-api)\n",
    "3. [Filter Videos by Keywords](#filter-videos-by-keyword)\n",
    "3. [Youtube API](#youtube-api)\n",
    "\n",
    "_____"
   ]
  },
  {
   "cell_type": "markdown",
   "metadata": {},
   "source": [
    "## Libraries\n",
    "\n",
    "all libraries which are needed to execute the code are listed here, if anything is not installed use `!pip install` to get the packages."
   ]
  },
  {
   "cell_type": "code",
   "execution_count": 259,
   "metadata": {},
   "outputs": [
    {
     "ename": "ImportError",
     "evalue": "cannot import name 'directory_path' from 'api_key' (/Users/marco/Documents/GitHub/digital_methods/api_key.py)",
     "output_type": "error",
     "traceback": [
      "\u001b[0;31m---------------------------------------------------------------------------\u001b[0m",
      "\u001b[0;31mImportError\u001b[0m                               Traceback (most recent call last)",
      "Cell \u001b[0;32mIn[259], line 9\u001b[0m\n\u001b[1;32m      7\u001b[0m \u001b[38;5;66;03m#import script\u001b[39;00m\n\u001b[1;32m      8\u001b[0m \u001b[38;5;28;01mfrom\u001b[39;00m \u001b[38;5;21;01mapi_key\u001b[39;00m \u001b[38;5;28;01mimport\u001b[39;00m api_key_1, api_key_2, api_key_3, api_key_4, api_key_5\n\u001b[0;32m----> 9\u001b[0m \u001b[38;5;28;01mfrom\u001b[39;00m \u001b[38;5;21;01mapi_key\u001b[39;00m \u001b[38;5;28;01mimport\u001b[39;00m directory_path\n",
      "\u001b[0;31mImportError\u001b[0m: cannot import name 'directory_path' from 'api_key' (/Users/marco/Documents/GitHub/digital_methods/api_key.py)"
     ]
    }
   ],
   "source": [
    "# import packages\n",
    "import googleapiclient.discovery\n",
    "import pandas as pd\n",
    "from googleapiclient.discovery import build\n",
    "import os  \n",
    "\n",
    "#import script\n",
    "from api_key import api_key_1, api_key_2, api_key_3, api_key_4, api_key_5\n",
    "from api_key import directory_path"
   ]
  },
  {
   "cell_type": "code",
   "execution_count": 234,
   "metadata": {},
   "outputs": [],
   "source": [
    "# credentials for your Youtube API\n",
    "\n",
    "#-----enter here-------\n",
    "api_service_name = \"youtube\"\n",
    "api_version = \"v3\"\n",
    "DEVELOPER_KEY = api_key_2"
   ]
  },
  {
   "cell_type": "code",
   "execution_count": 260,
   "metadata": {},
   "outputs": [],
   "source": [
    "directory_path = ''\n",
    "directory_path_new_file = ''"
   ]
  },
  {
   "cell_type": "code",
   "execution_count": null,
   "metadata": {},
   "outputs": [],
   "source": [
    "# list of channels\n",
    "channel_ids = ['UC3e7Z56naX4KTrs9l7nSyWw', 'UCKgJEs_v0JB-6jWb8lIy9Xw', 'UC4T4vA6MTWS2QE2C6o8Sevw',\n",
    "               'UCL_f53ZEJxp8TtlOkHwMV9Q', 'UCprclkVrNPls7PR-nHhf1Ow', 'UCfZS_wFmJCXqPr4MYtAIN6w',\n",
    "               'UCJIfeSCssxSC_Dhc5s7woww', 'UCx6h-dWzJ5NpAlja1YsApdg', 'UCtdbWsnfA08KhSUO4amVLaQ',\n",
    "               'UCzQUP1qoWDoEbmsQxvdjxgQ', 'UCZWlSUNDvCCS1hBiXV0zKcA', 'UC0uVZd8N7FfIZnPu0y7o95A',\n",
    "               'UCoJhK5kMc4LjBKdiYrDtzlA', 'UCPsCJ1j0G45FnRGqJhCHLiA']"
   ]
  },
  {
   "cell_type": "code",
   "execution_count": 235,
   "metadata": {},
   "outputs": [],
   "source": [
    "# Initialize the YouTube API client\n",
    "youtube = googleapiclient.discovery.build(\n",
    "    api_service_name, api_version, developerKey=DEVELOPER_KEY)"
   ]
  },
  {
   "cell_type": "markdown",
   "metadata": {},
   "source": [
    "## Youtube Search API\n",
    "\n",
    "You can find the documentation for the Youtube Data API here: https://developers.google.com/youtube/v3"
   ]
  },
  {
   "cell_type": "code",
   "execution_count": 65,
   "metadata": {},
   "outputs": [],
   "source": [
    "# List of channel IDs you want to search on\n",
    "channel_ids = ['UCPsCJ1j0G45FnRGqJhCHLiA']\n",
    "\n",
    "# List of query terms\n",
    "queries = ['climate', 'climate change', 'climate crisis', 'climate emergency',\n",
    "           'greenhouse', 'greenhouse gas', 'green energy', 'environment',\n",
    "           'extreme weather', 'heat', 'cooling', 'hurricane', 'floods', 'ice age',\n",
    "           'wildfire', 'drought', 'temperature', 'warming', 'greta', 'greta thunberg',\n",
    "           'fossil fuel', 'energy', 'renewable', 'fracking', 'co2', 'carbon dioxide',\n",
    "           'pollution', 'net emissions', 'net zero', 'alarmism', 'biodiversity', \n",
    "           'extinction', 'antartica', 'greenland', 'galciers', 'artic', '97 percent', 'cop',\n",
    "           'natural cycles', 'sea level', 'climate lockdown']\n",
    "\n",
    "# Create an empty list to store video information\n",
    "video_data = []\n",
    "\n",
    "# Iterate over each channel ID\n",
    "for channel_id in channel_ids:\n",
    "    # Iterate over each query term\n",
    "    for query in queries:\n",
    "        # Make the search request\n",
    "        search_response = youtube.search().list(\n",
    "            q=query,\n",
    "            channelId=channel_id,\n",
    "            type='video',\n",
    "            part='id,snippet',\n",
    "            maxResults=50,\n",
    "            publishedAfter='2023-01-01T00:00:00Z'  # Ensure videos are published after January 1, 2023\n",
    "        ).execute()\n",
    "\n",
    "        # Parse the response and append video information to the list\n",
    "        for search_result in search_response.get('items', []):\n",
    "            if search_result['id']['kind'] == 'youtube#video':\n",
    "                video_id = search_result['id']['videoId']\n",
    "                video_response = youtube.videos().list(\n",
    "                    part=\"snippet,statistics\",\n",
    "                    id=video_id\n",
    "                ).execute()\n",
    "                video_description = video_response['items'][0]['snippet']['description'] \n",
    "                video_title = search_result['snippet']['title']\n",
    "                published_at = search_result['snippet']['publishedAt']\n",
    "                channel_name = search_result['snippet']['channelTitle']\n",
    "                comment_count = video_response['items'][0]['statistics'].get('commentCount', 0)\n",
    "                like_count = video_response['items'][0]['statistics'].get('likeCount', 0)\n",
    "                category = video_response['items'][0]['snippet'].get('categoryId', 'Not available')\n",
    "\n",
    "                video_data.append({\n",
    "                    \"title\": video_title,\n",
    "                    \"video_id\": video_id,\n",
    "                    \"published_at\": published_at,\n",
    "                    \"channel_name\": channel_name,\n",
    "                    \"description\": video_description,\n",
    "                    \"comment_count\": comment_count,\n",
    "                    \"like_count\": like_count,\n",
    "                    \"category\": category\n",
    "                })\n",
    "\n",
    "# Create a DataFrame from the list of video information\n",
    "df = pd.DataFrame(video_data)\n"
   ]
  },
  {
   "cell_type": "code",
   "execution_count": 66,
   "metadata": {},
   "outputs": [],
   "source": [
    "# Remove duplicates from the 'video_id' column\n",
    "df.drop_duplicates(subset='video_id', inplace=True)"
   ]
  },
  {
   "cell_type": "code",
   "execution_count": 261,
   "metadata": {},
   "outputs": [
    {
     "ename": "FileNotFoundError",
     "evalue": "[Errno 2] No such file or directory: ''",
     "output_type": "error",
     "traceback": [
      "\u001b[0;31m---------------------------------------------------------------------------\u001b[0m",
      "\u001b[0;31mFileNotFoundError\u001b[0m                         Traceback (most recent call last)",
      "Cell \u001b[0;32mIn[261], line 2\u001b[0m\n\u001b[1;32m      1\u001b[0m \u001b[38;5;66;03m# safe csv file  \u001b[39;00m\n\u001b[0;32m----> 2\u001b[0m \u001b[43mdf\u001b[49m\u001b[38;5;241;43m.\u001b[39;49m\u001b[43mto_csv\u001b[49m\u001b[43m(\u001b[49m\u001b[38;5;124;43m'\u001b[39;49m\u001b[38;5;124;43m'\u001b[39;49m\u001b[43m)\u001b[49m  \n",
      "File \u001b[0;32m/Library/Frameworks/Python.framework/Versions/3.11/lib/python3.11/site-packages/pandas/util/_decorators.py:211\u001b[0m, in \u001b[0;36mdeprecate_kwarg.<locals>._deprecate_kwarg.<locals>.wrapper\u001b[0;34m(*args, **kwargs)\u001b[0m\n\u001b[1;32m    209\u001b[0m     \u001b[38;5;28;01melse\u001b[39;00m:\n\u001b[1;32m    210\u001b[0m         kwargs[new_arg_name] \u001b[38;5;241m=\u001b[39m new_arg_value\n\u001b[0;32m--> 211\u001b[0m \u001b[38;5;28;01mreturn\u001b[39;00m \u001b[43mfunc\u001b[49m\u001b[43m(\u001b[49m\u001b[38;5;241;43m*\u001b[39;49m\u001b[43margs\u001b[49m\u001b[43m,\u001b[49m\u001b[43m \u001b[49m\u001b[38;5;241;43m*\u001b[39;49m\u001b[38;5;241;43m*\u001b[39;49m\u001b[43mkwargs\u001b[49m\u001b[43m)\u001b[49m\n",
      "File \u001b[0;32m/Library/Frameworks/Python.framework/Versions/3.11/lib/python3.11/site-packages/pandas/core/generic.py:3720\u001b[0m, in \u001b[0;36mNDFrame.to_csv\u001b[0;34m(self, path_or_buf, sep, na_rep, float_format, columns, header, index, index_label, mode, encoding, compression, quoting, quotechar, lineterminator, chunksize, date_format, doublequote, escapechar, decimal, errors, storage_options)\u001b[0m\n\u001b[1;32m   3709\u001b[0m df \u001b[38;5;241m=\u001b[39m \u001b[38;5;28mself\u001b[39m \u001b[38;5;28;01mif\u001b[39;00m \u001b[38;5;28misinstance\u001b[39m(\u001b[38;5;28mself\u001b[39m, ABCDataFrame) \u001b[38;5;28;01melse\u001b[39;00m \u001b[38;5;28mself\u001b[39m\u001b[38;5;241m.\u001b[39mto_frame()\n\u001b[1;32m   3711\u001b[0m formatter \u001b[38;5;241m=\u001b[39m DataFrameFormatter(\n\u001b[1;32m   3712\u001b[0m     frame\u001b[38;5;241m=\u001b[39mdf,\n\u001b[1;32m   3713\u001b[0m     header\u001b[38;5;241m=\u001b[39mheader,\n\u001b[0;32m   (...)\u001b[0m\n\u001b[1;32m   3717\u001b[0m     decimal\u001b[38;5;241m=\u001b[39mdecimal,\n\u001b[1;32m   3718\u001b[0m )\n\u001b[0;32m-> 3720\u001b[0m \u001b[38;5;28;01mreturn\u001b[39;00m \u001b[43mDataFrameRenderer\u001b[49m\u001b[43m(\u001b[49m\u001b[43mformatter\u001b[49m\u001b[43m)\u001b[49m\u001b[38;5;241;43m.\u001b[39;49m\u001b[43mto_csv\u001b[49m\u001b[43m(\u001b[49m\n\u001b[1;32m   3721\u001b[0m \u001b[43m    \u001b[49m\u001b[43mpath_or_buf\u001b[49m\u001b[43m,\u001b[49m\n\u001b[1;32m   3722\u001b[0m \u001b[43m    \u001b[49m\u001b[43mlineterminator\u001b[49m\u001b[38;5;241;43m=\u001b[39;49m\u001b[43mlineterminator\u001b[49m\u001b[43m,\u001b[49m\n\u001b[1;32m   3723\u001b[0m \u001b[43m    \u001b[49m\u001b[43msep\u001b[49m\u001b[38;5;241;43m=\u001b[39;49m\u001b[43msep\u001b[49m\u001b[43m,\u001b[49m\n\u001b[1;32m   3724\u001b[0m \u001b[43m    \u001b[49m\u001b[43mencoding\u001b[49m\u001b[38;5;241;43m=\u001b[39;49m\u001b[43mencoding\u001b[49m\u001b[43m,\u001b[49m\n\u001b[1;32m   3725\u001b[0m \u001b[43m    \u001b[49m\u001b[43merrors\u001b[49m\u001b[38;5;241;43m=\u001b[39;49m\u001b[43merrors\u001b[49m\u001b[43m,\u001b[49m\n\u001b[1;32m   3726\u001b[0m \u001b[43m    \u001b[49m\u001b[43mcompression\u001b[49m\u001b[38;5;241;43m=\u001b[39;49m\u001b[43mcompression\u001b[49m\u001b[43m,\u001b[49m\n\u001b[1;32m   3727\u001b[0m \u001b[43m    \u001b[49m\u001b[43mquoting\u001b[49m\u001b[38;5;241;43m=\u001b[39;49m\u001b[43mquoting\u001b[49m\u001b[43m,\u001b[49m\n\u001b[1;32m   3728\u001b[0m \u001b[43m    \u001b[49m\u001b[43mcolumns\u001b[49m\u001b[38;5;241;43m=\u001b[39;49m\u001b[43mcolumns\u001b[49m\u001b[43m,\u001b[49m\n\u001b[1;32m   3729\u001b[0m \u001b[43m    \u001b[49m\u001b[43mindex_label\u001b[49m\u001b[38;5;241;43m=\u001b[39;49m\u001b[43mindex_label\u001b[49m\u001b[43m,\u001b[49m\n\u001b[1;32m   3730\u001b[0m \u001b[43m    \u001b[49m\u001b[43mmode\u001b[49m\u001b[38;5;241;43m=\u001b[39;49m\u001b[43mmode\u001b[49m\u001b[43m,\u001b[49m\n\u001b[1;32m   3731\u001b[0m \u001b[43m    \u001b[49m\u001b[43mchunksize\u001b[49m\u001b[38;5;241;43m=\u001b[39;49m\u001b[43mchunksize\u001b[49m\u001b[43m,\u001b[49m\n\u001b[1;32m   3732\u001b[0m \u001b[43m    \u001b[49m\u001b[43mquotechar\u001b[49m\u001b[38;5;241;43m=\u001b[39;49m\u001b[43mquotechar\u001b[49m\u001b[43m,\u001b[49m\n\u001b[1;32m   3733\u001b[0m \u001b[43m    \u001b[49m\u001b[43mdate_format\u001b[49m\u001b[38;5;241;43m=\u001b[39;49m\u001b[43mdate_format\u001b[49m\u001b[43m,\u001b[49m\n\u001b[1;32m   3734\u001b[0m \u001b[43m    \u001b[49m\u001b[43mdoublequote\u001b[49m\u001b[38;5;241;43m=\u001b[39;49m\u001b[43mdoublequote\u001b[49m\u001b[43m,\u001b[49m\n\u001b[1;32m   3735\u001b[0m \u001b[43m    \u001b[49m\u001b[43mescapechar\u001b[49m\u001b[38;5;241;43m=\u001b[39;49m\u001b[43mescapechar\u001b[49m\u001b[43m,\u001b[49m\n\u001b[1;32m   3736\u001b[0m \u001b[43m    \u001b[49m\u001b[43mstorage_options\u001b[49m\u001b[38;5;241;43m=\u001b[39;49m\u001b[43mstorage_options\u001b[49m\u001b[43m,\u001b[49m\n\u001b[1;32m   3737\u001b[0m \u001b[43m\u001b[49m\u001b[43m)\u001b[49m\n",
      "File \u001b[0;32m/Library/Frameworks/Python.framework/Versions/3.11/lib/python3.11/site-packages/pandas/util/_decorators.py:211\u001b[0m, in \u001b[0;36mdeprecate_kwarg.<locals>._deprecate_kwarg.<locals>.wrapper\u001b[0;34m(*args, **kwargs)\u001b[0m\n\u001b[1;32m    209\u001b[0m     \u001b[38;5;28;01melse\u001b[39;00m:\n\u001b[1;32m    210\u001b[0m         kwargs[new_arg_name] \u001b[38;5;241m=\u001b[39m new_arg_value\n\u001b[0;32m--> 211\u001b[0m \u001b[38;5;28;01mreturn\u001b[39;00m \u001b[43mfunc\u001b[49m\u001b[43m(\u001b[49m\u001b[38;5;241;43m*\u001b[39;49m\u001b[43margs\u001b[49m\u001b[43m,\u001b[49m\u001b[43m \u001b[49m\u001b[38;5;241;43m*\u001b[39;49m\u001b[38;5;241;43m*\u001b[39;49m\u001b[43mkwargs\u001b[49m\u001b[43m)\u001b[49m\n",
      "File \u001b[0;32m/Library/Frameworks/Python.framework/Versions/3.11/lib/python3.11/site-packages/pandas/io/formats/format.py:1189\u001b[0m, in \u001b[0;36mDataFrameRenderer.to_csv\u001b[0;34m(self, path_or_buf, encoding, sep, columns, index_label, mode, compression, quoting, quotechar, lineterminator, chunksize, date_format, doublequote, escapechar, errors, storage_options)\u001b[0m\n\u001b[1;32m   1168\u001b[0m     created_buffer \u001b[38;5;241m=\u001b[39m \u001b[38;5;28;01mFalse\u001b[39;00m\n\u001b[1;32m   1170\u001b[0m csv_formatter \u001b[38;5;241m=\u001b[39m CSVFormatter(\n\u001b[1;32m   1171\u001b[0m     path_or_buf\u001b[38;5;241m=\u001b[39mpath_or_buf,\n\u001b[1;32m   1172\u001b[0m     lineterminator\u001b[38;5;241m=\u001b[39mlineterminator,\n\u001b[0;32m   (...)\u001b[0m\n\u001b[1;32m   1187\u001b[0m     formatter\u001b[38;5;241m=\u001b[39m\u001b[38;5;28mself\u001b[39m\u001b[38;5;241m.\u001b[39mfmt,\n\u001b[1;32m   1188\u001b[0m )\n\u001b[0;32m-> 1189\u001b[0m \u001b[43mcsv_formatter\u001b[49m\u001b[38;5;241;43m.\u001b[39;49m\u001b[43msave\u001b[49m\u001b[43m(\u001b[49m\u001b[43m)\u001b[49m\n\u001b[1;32m   1191\u001b[0m \u001b[38;5;28;01mif\u001b[39;00m created_buffer:\n\u001b[1;32m   1192\u001b[0m     \u001b[38;5;28;01massert\u001b[39;00m \u001b[38;5;28misinstance\u001b[39m(path_or_buf, StringIO)\n",
      "File \u001b[0;32m/Library/Frameworks/Python.framework/Versions/3.11/lib/python3.11/site-packages/pandas/io/formats/csvs.py:241\u001b[0m, in \u001b[0;36mCSVFormatter.save\u001b[0;34m(self)\u001b[0m\n\u001b[1;32m    237\u001b[0m \u001b[38;5;250m\u001b[39m\u001b[38;5;124;03m\"\"\"\u001b[39;00m\n\u001b[1;32m    238\u001b[0m \u001b[38;5;124;03mCreate the writer & save.\u001b[39;00m\n\u001b[1;32m    239\u001b[0m \u001b[38;5;124;03m\"\"\"\u001b[39;00m\n\u001b[1;32m    240\u001b[0m \u001b[38;5;66;03m# apply compression and byte/text conversion\u001b[39;00m\n\u001b[0;32m--> 241\u001b[0m \u001b[38;5;28;01mwith\u001b[39;00m \u001b[43mget_handle\u001b[49m\u001b[43m(\u001b[49m\n\u001b[1;32m    242\u001b[0m \u001b[43m    \u001b[49m\u001b[38;5;28;43mself\u001b[39;49m\u001b[38;5;241;43m.\u001b[39;49m\u001b[43mfilepath_or_buffer\u001b[49m\u001b[43m,\u001b[49m\n\u001b[1;32m    243\u001b[0m \u001b[43m    \u001b[49m\u001b[38;5;28;43mself\u001b[39;49m\u001b[38;5;241;43m.\u001b[39;49m\u001b[43mmode\u001b[49m\u001b[43m,\u001b[49m\n\u001b[1;32m    244\u001b[0m \u001b[43m    \u001b[49m\u001b[43mencoding\u001b[49m\u001b[38;5;241;43m=\u001b[39;49m\u001b[38;5;28;43mself\u001b[39;49m\u001b[38;5;241;43m.\u001b[39;49m\u001b[43mencoding\u001b[49m\u001b[43m,\u001b[49m\n\u001b[1;32m    245\u001b[0m \u001b[43m    \u001b[49m\u001b[43merrors\u001b[49m\u001b[38;5;241;43m=\u001b[39;49m\u001b[38;5;28;43mself\u001b[39;49m\u001b[38;5;241;43m.\u001b[39;49m\u001b[43merrors\u001b[49m\u001b[43m,\u001b[49m\n\u001b[1;32m    246\u001b[0m \u001b[43m    \u001b[49m\u001b[43mcompression\u001b[49m\u001b[38;5;241;43m=\u001b[39;49m\u001b[38;5;28;43mself\u001b[39;49m\u001b[38;5;241;43m.\u001b[39;49m\u001b[43mcompression\u001b[49m\u001b[43m,\u001b[49m\n\u001b[1;32m    247\u001b[0m \u001b[43m    \u001b[49m\u001b[43mstorage_options\u001b[49m\u001b[38;5;241;43m=\u001b[39;49m\u001b[38;5;28;43mself\u001b[39;49m\u001b[38;5;241;43m.\u001b[39;49m\u001b[43mstorage_options\u001b[49m\u001b[43m,\u001b[49m\n\u001b[1;32m    248\u001b[0m \u001b[43m\u001b[49m\u001b[43m)\u001b[49m \u001b[38;5;28;01mas\u001b[39;00m handles:\n\u001b[1;32m    249\u001b[0m \n\u001b[1;32m    250\u001b[0m     \u001b[38;5;66;03m# Note: self.encoding is irrelevant here\u001b[39;00m\n\u001b[1;32m    251\u001b[0m     \u001b[38;5;28mself\u001b[39m\u001b[38;5;241m.\u001b[39mwriter \u001b[38;5;241m=\u001b[39m csvlib\u001b[38;5;241m.\u001b[39mwriter(\n\u001b[1;32m    252\u001b[0m         handles\u001b[38;5;241m.\u001b[39mhandle,\n\u001b[1;32m    253\u001b[0m         lineterminator\u001b[38;5;241m=\u001b[39m\u001b[38;5;28mself\u001b[39m\u001b[38;5;241m.\u001b[39mlineterminator,\n\u001b[0;32m   (...)\u001b[0m\n\u001b[1;32m    258\u001b[0m         quotechar\u001b[38;5;241m=\u001b[39m\u001b[38;5;28mself\u001b[39m\u001b[38;5;241m.\u001b[39mquotechar,\n\u001b[1;32m    259\u001b[0m     )\n\u001b[1;32m    261\u001b[0m     \u001b[38;5;28mself\u001b[39m\u001b[38;5;241m.\u001b[39m_save()\n",
      "File \u001b[0;32m/Library/Frameworks/Python.framework/Versions/3.11/lib/python3.11/site-packages/pandas/io/common.py:856\u001b[0m, in \u001b[0;36mget_handle\u001b[0;34m(path_or_buf, mode, encoding, compression, memory_map, is_text, errors, storage_options)\u001b[0m\n\u001b[1;32m    851\u001b[0m \u001b[38;5;28;01melif\u001b[39;00m \u001b[38;5;28misinstance\u001b[39m(handle, \u001b[38;5;28mstr\u001b[39m):\n\u001b[1;32m    852\u001b[0m     \u001b[38;5;66;03m# Check whether the filename is to be opened in binary mode.\u001b[39;00m\n\u001b[1;32m    853\u001b[0m     \u001b[38;5;66;03m# Binary mode does not support 'encoding' and 'newline'.\u001b[39;00m\n\u001b[1;32m    854\u001b[0m     \u001b[38;5;28;01mif\u001b[39;00m ioargs\u001b[38;5;241m.\u001b[39mencoding \u001b[38;5;129;01mand\u001b[39;00m \u001b[38;5;124m\"\u001b[39m\u001b[38;5;124mb\u001b[39m\u001b[38;5;124m\"\u001b[39m \u001b[38;5;129;01mnot\u001b[39;00m \u001b[38;5;129;01min\u001b[39;00m ioargs\u001b[38;5;241m.\u001b[39mmode:\n\u001b[1;32m    855\u001b[0m         \u001b[38;5;66;03m# Encoding\u001b[39;00m\n\u001b[0;32m--> 856\u001b[0m         handle \u001b[38;5;241m=\u001b[39m \u001b[38;5;28mopen\u001b[39m(\n\u001b[1;32m    857\u001b[0m             handle,\n\u001b[1;32m    858\u001b[0m             ioargs\u001b[38;5;241m.\u001b[39mmode,\n\u001b[1;32m    859\u001b[0m             encoding\u001b[38;5;241m=\u001b[39mioargs\u001b[38;5;241m.\u001b[39mencoding,\n\u001b[1;32m    860\u001b[0m             errors\u001b[38;5;241m=\u001b[39merrors,\n\u001b[1;32m    861\u001b[0m             newline\u001b[38;5;241m=\u001b[39m\u001b[38;5;124m\"\u001b[39m\u001b[38;5;124m\"\u001b[39m,\n\u001b[1;32m    862\u001b[0m         )\n\u001b[1;32m    863\u001b[0m     \u001b[38;5;28;01melse\u001b[39;00m:\n\u001b[1;32m    864\u001b[0m         \u001b[38;5;66;03m# Binary mode\u001b[39;00m\n\u001b[1;32m    865\u001b[0m         handle \u001b[38;5;241m=\u001b[39m \u001b[38;5;28mopen\u001b[39m(handle, ioargs\u001b[38;5;241m.\u001b[39mmode)\n",
      "\u001b[0;31mFileNotFoundError\u001b[0m: [Errno 2] No such file or directory: ''"
     ]
    }
   ],
   "source": [
    "# safe csv file  \n",
    "df.to_csv('')  "
   ]
  },
  {
   "cell_type": "markdown",
   "metadata": {},
   "source": [
    "## Filter videos by keyword\n",
    "\n",
    "This section is filtering the videos with a second query, since the first query is based on the youtube algorithm and therefore just a first step to organise the videos based on the topic of interest."
   ]
  },
  {
   "cell_type": "code",
   "execution_count": 262,
   "metadata": {},
   "outputs": [],
   "source": [
    "df = pd.read_csv(directory_path)"
   ]
  },
  {
   "cell_type": "code",
   "execution_count": 227,
   "metadata": {},
   "outputs": [],
   "source": [
    "# drop first three columns\n",
    "df = df.drop(df.columns[:3], axis=1)\n"
   ]
  },
  {
   "cell_type": "code",
   "execution_count": 127,
   "metadata": {},
   "outputs": [],
   "source": [
    "# Define reference list of words to check for\n",
    "reference_words = [\n",
    "    \"climate\", \"green hypocrisy\", \"green policies\", \"green policy\", \"environmental\", \"net zero\",\n",
    "    \"green propaganda\", \"greenflation\", \"green apocalypse\", \"green boondoggles\", \"green hysteria\",\n",
    "    \"heatwave hysteria\", \"global boiling\", \"greta's doomsday\", \"gretas doomsday\", \"eco-fascism\",\n",
    "    \"eco fascism\", \"greta thumberg\", \"cop26\", \"green economy\", \"the end of snow\", \"sea level check\",\n",
    "    \"hurricanes\", \"eco-colonialism\", \"eco colonialism\", \"glaciers\", \"alarmism\", \"energy catastrophe\",\n",
    "    \"carbon tax\", \"clean energy regulations\", \"wild fires\", \"wildfire\", \"emissions reduction plan\",\n",
    "    \"low carbon diet\", \"heat waves\", \"clean environment\", \"save the planet\", \"global boiling\",\n",
    "    \"save the environment\", \"global warming\", \"solar panel\", \"liquid natural gas ban\",\n",
    "    \"environmental justice\", \"green movement\", \"green crackdown\", \"green dogma\", \"greta thunberg\",\n",
    "    \"greenhouse gas\", \"CO2\", \"rising sea levels\", \"green police\", \"unprecedented weather conditions\",\n",
    "    \"energy markets\", \"unreliable renewables\", \"renewable energy\", \"religion of green\", \"fossil fuel\",\n",
    "    \"eco terrorism\", \"eco-terrorism\", \"cloud seeding\", \"green energy\", \"vandalizing famous paintings\"\n",
    "]\n",
    "\n",
    "\n",
    "\n",
    "# Function to check if any reference word appears in the text\n",
    "def contains_reference(text):\n",
    "    for word in reference_words:\n",
    "        if word in text:\n",
    "            return True\n",
    "    return False\n",
    "\n",
    "# Iterate over each row in the DataFrame\n",
    "for index, row in df.iterrows():\n",
    "    # Convert 'Title' and 'Description' columns to lowercase\n",
    "    title_lower = row['title'].lower()\n",
    "    description_lower = row['description'].lower()\n",
    "\n",
    "    # Check if any of the reference words appear in either column\n",
    "\n",
    "        #---we changed to statement to AND if the Youtube Channel is a podcast channel\n",
    "    if contains_reference(title_lower) or contains_reference(description_lower):\n",
    "        # Word found, keep the row\n",
    "        pass\n",
    "    else:\n",
    "        # No matching words found, drop the row\n",
    "        df.drop(index, inplace=True)\n",
    "\n",
    "# Reset the index after dropping rows\n",
    "df.reset_index(drop=True, inplace=True)\n",
    "df.drop_duplicates(subset='video_id', inplace=True)"
   ]
  },
  {
   "cell_type": "code",
   "execution_count": 91,
   "metadata": {},
   "outputs": [],
   "source": [
    "# dataframe as int and str\n",
    "df['comment_count'] = df['comment_count'].astype(int)\n",
    "df['title'] = df['title'].astype(str)\n",
    "df['description'] = df['description'].astype(str)"
   ]
  },
  {
   "cell_type": "code",
   "execution_count": 128,
   "metadata": {},
   "outputs": [
    {
     "data": {
      "text/plain": [
       "4163"
      ]
     },
     "execution_count": 128,
     "metadata": {},
     "output_type": "execute_result"
    }
   ],
   "source": [
    "# get sum of comment\n",
    "sum(df['comment_count'])"
   ]
  },
  {
   "cell_type": "code",
   "execution_count": 209,
   "metadata": {},
   "outputs": [],
   "source": [
    "# Fetch video categories\n",
    "categories_response = youtube.videoCategories().list(\n",
    "    part=\"snippet\",\n",
    "    regionCode=\"US\" \n",
    ").execute()\n",
    "\n",
    "# Create a dictionary to map category IDs to category names\n",
    "category_map = {}\n",
    "for category in categories_response['items']:\n",
    "    category_map[category['id']] = category['snippet']['title']\n",
    "\n",
    "# Now, loop over category column in your DataFrame\n",
    "for index, row in df.iterrows():\n",
    "    category_id = row['category']\n",
    "    category_name = category_map.get(category_id, \"Unknown\")\n",
    "    df.at[index, 'category'] = category_name"
   ]
  },
  {
   "cell_type": "code",
   "execution_count": 229,
   "metadata": {},
   "outputs": [],
   "source": [
    "# safe csv file  \n",
    "df.to_csv(directory_path_new_file)  "
   ]
  },
  {
   "cell_type": "markdown",
   "metadata": {},
   "source": [
    "## Youtube API\n",
    "\n",
    "Accessing the YouTube comments of each video which is related to the topic of climate change. Therefore we take the video_id from the created dataframe to access the comments for each video."
   ]
  },
  {
   "cell_type": "code",
   "execution_count": 247,
   "metadata": {},
   "outputs": [],
   "source": [
    "# load data frame with all related videos about climate change\n",
    "df = pd.read_csv('', index_col=0)\n"
   ]
  },
  {
   "cell_type": "code",
   "execution_count": 250,
   "metadata": {},
   "outputs": [],
   "source": [
    "# Initialize an empty list to store comments\n",
    "all_comments_data = []\n",
    "\n",
    "# Iterate over each row in the DataFrame\n",
    "for index, row in df.iterrows():\n",
    "    video_id = row['video_id']\n",
    "    \n",
    "    # Initialize the nextPageToken variable\n",
    "    next_page_token = None\n",
    "\n",
    "    while True:\n",
    "        # Make a request to fetch comments for the video\n",
    "        comments_response = youtube.commentThreads().list(\n",
    "            part=\"snippet\",\n",
    "            videoId=video_id,\n",
    "            textFormat=\"plainText\",\n",
    "            maxResults=100,  # You can only request up to 100 comments per page\n",
    "            pageToken=next_page_token\n",
    "        ).execute()\n",
    "\n",
    "        # Iterate over each comment thread in the response\n",
    "        for comment_thread in comments_response['items']:\n",
    "            comment_snippet = comment_thread['snippet']['topLevelComment']['snippet']\n",
    "            published_at = comment_snippet['publishedAt']\n",
    "            like_count = comment_snippet['likeCount']\n",
    "            comment_text = comment_snippet['textDisplay']\n",
    "            author = comment_snippet['authorDisplayName']\n",
    "\n",
    "            comment_data = {\n",
    "                \"video_id\": video_id,\n",
    "                \"published_at\": published_at,\n",
    "                \"like_count\": like_count,\n",
    "                \"text\": comment_text,\n",
    "                \"author\": author\n",
    "            }\n",
    "\n",
    "            all_comments_data.append(comment_data)\n",
    "\n",
    "        # Check if there is a nextPageToken in the response\n",
    "        next_page_token = comments_response.get('nextPageToken')\n",
    "\n",
    "        # If no nextPageToken, break the loop\n",
    "        if not next_page_token:\n",
    "            break\n",
    "\n",
    "# Create a DataFrame from the list of comments\n",
    "comments_df = pd.DataFrame(all_comments_data)\n",
    "\n"
   ]
  },
  {
   "cell_type": "code",
   "execution_count": 251,
   "metadata": {},
   "outputs": [],
   "source": [
    "# safe csv file  \n",
    "comments_df.to_csv(directory_path_new_file)  "
   ]
  }
 ],
 "metadata": {
  "kernelspec": {
   "display_name": "Python 3",
   "language": "python",
   "name": "python3"
  },
  "language_info": {
   "codemirror_mode": {
    "name": "ipython",
    "version": 3
   },
   "file_extension": ".py",
   "mimetype": "text/x-python",
   "name": "python",
   "nbconvert_exporter": "python",
   "pygments_lexer": "ipython3",
   "version": "3.11.1"
  }
 },
 "nbformat": 4,
 "nbformat_minor": 2
}
